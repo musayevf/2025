{
 "cells": [
  {
   "cell_type": "markdown",
   "metadata": {},
   "source": [
    "# Scraping Interactive Match Links From Main Page"
   ]
  },
  {
   "cell_type": "code",
   "execution_count": 1,
   "metadata": {},
   "outputs": [
    {
     "name": "stdout",
     "output_type": "stream",
     "text": [
      "First 5 Matches:\n",
      "Match Identifier: brighton-tottenham-fsjksfhd, Longest URL: https://www.oddsportal.com/football/england/premier-league/brighton-tottenham-fsjksfhd/\n",
      "Match Identifier: aston-villa-manchester-united-ltBAlx0M, Longest URL: https://www.oddsportal.com/football/england/premier-league/aston-villa-manchester-united-ltBAlx0M/\n",
      "Match Identifier: chelsea-nottingham-nywy5cp3, Longest URL: https://www.oddsportal.com/football/england/premier-league/chelsea-nottingham-nywy5cp3/\n",
      "Match Identifier: everton-newcastle-utd-l0Zi1FqS, Longest URL: https://www.oddsportal.com/football/england/premier-league/everton-newcastle-utd-l0Zi1FqS/\n",
      "Match Identifier: arsenal-southampton-SQM1jbV9, Longest URL: https://www.oddsportal.com/football/england/premier-league/arsenal-southampton-SQM1jbV9/\n",
      "\n",
      "...\n",
      "\n",
      "Last 5 Matches:\n",
      "Match Identifier: everton-bournemouth-x6HuiG3U, Longest URL: https://www.oddsportal.com/football/england/premier-league/everton-bournemouth-x6HuiG3U/\n",
      "Match Identifier: ipswich-fulham-SUdkBJln, Longest URL: https://www.oddsportal.com/football/england/premier-league/ipswich-fulham-SUdkBJln/\n",
      "Match Identifier: leicester-aston-villa-lpob9cJb, Longest URL: https://www.oddsportal.com/football/england/premier-league/leicester-aston-villa-lpob9cJb/\n",
      "Match Identifier: nottingham-wolves-2Fanm72d, Longest URL: https://www.oddsportal.com/football/england/premier-league/nottingham-wolves-2Fanm72d/\n",
      "Match Identifier: arsenal-brighton-ERWFdKZh, Longest URL: https://www.oddsportal.com/football/england/premier-league/arsenal-brighton-ERWFdKZh/\n"
     ]
    }
   ],
   "source": [
    "from selenium import webdriver\n",
    "from selenium.webdriver.common.by import By\n",
    "import time\n",
    "import re\n",
    "from selenium.webdriver.chrome.service import Service\n",
    "\n",
    "# Set up the WebDriver (adjust the path as per your setup)\n",
    "#driver = webdriver.Chrome('C:/Users/99451/AppData/Local/Programs/Python/Python312/Lib/site-packages/selenium/webdriver/chromedriver-win64/chromedriver.exe')\n",
    "\n",
    "# Initialize the driver\n",
    "driver_path = 'C:/Users/99451/AppData/Local/Programs/Python/Python312/Lib/site-packages/selenium/webdriver/chromedriver-win64/chromedriver.exe'\n",
    "service = Service(driver_path)\n",
    "driver = webdriver.Chrome(service=service)\n",
    "\n",
    "# Open the OddsPortal page\n",
    "driver.get('https://www.oddsportal.com/football/england/premier-league/results/')\n",
    "\n",
    "# Function to scroll the page and load more matches\n",
    "def scroll_to_load_matches():\n",
    "    last_height = driver.execute_script(\"return document.body.scrollHeight\")\n",
    "\n",
    "    while True:\n",
    "        # Scroll down to the bottom\n",
    "        driver.execute_script(\"window.scrollTo(0, document.body.scrollHeight);\")\n",
    "        time.sleep(2)  # Wait for the new content to load\n",
    "\n",
    "        # Calculate new scroll height and compare with last scroll height\n",
    "        new_height = driver.execute_script(\"return document.body.scrollHeight\")\n",
    "        if new_height == last_height:\n",
    "            break  # Exit the loop if no more matches are loaded\n",
    "        last_height = new_height\n",
    "\n",
    "# Scroll to load all matches\n",
    "scroll_to_load_matches()\n",
    "\n",
    "# Find all links on the page\n",
    "links = driver.find_elements(By.TAG_NAME, 'a')\n",
    "\n",
    "# Extract URLs from the link elements\n",
    "urls = [link.get_attribute('href') for link in links if link.get_attribute('href')]\n",
    "\n",
    "# Print or filter URLs based on a pattern\n",
    "#for url in urls:\n",
    "    #if 'oddsportal.com/football' in url:\n",
    "        #print(url)\n",
    "\n",
    "# Close the driver\n",
    "driver.quit()\n",
    "\n",
    "\n",
    "# Filter out None or empty links\n",
    "urls = [url for url in urls if url]\n",
    "\n",
    "# Dictionary to store longest URLs for each match\n",
    "longest_urls = {}\n",
    "\n",
    "# Regex pattern to identify match URLs (this may need to be adjusted based on the actual URL structure)\n",
    "match_pattern = re.compile(r'/football/.+/.+/[^/]+-[^/]+-[\\w-]+/')\n",
    "\n",
    "for url in urls:\n",
    "    # Check if the URL matches the match pattern\n",
    "    if match_pattern.search(url):\n",
    "        # Extract match identifier\n",
    "        parts = url.split('/')\n",
    "        match_identifier = parts[-2]  # This may represent the match\n",
    "\n",
    "        # Store the longest URL for each match\n",
    "        if match_identifier not in longest_urls or len(url) > len(longest_urls[match_identifier]):\n",
    "            longest_urls[match_identifier] = url\n",
    "\n",
    "# Convert the longest_urls dictionary to a list of tuples\n",
    "longest_url_items = list(longest_urls.items())\n",
    "\n",
    "# Print the first 5 matches and links\n",
    "print(\"First 5 Matches:\")\n",
    "for match, long_url in longest_url_items[:5]:\n",
    "    print(f\"Match Identifier: {match}, Longest URL: {long_url}\")\n",
    "\n",
    "# Print a separator\n",
    "print(\"\\n...\\n\")  # Optional separator between sections\n",
    "\n",
    "# Print the last 5 matches and links\n",
    "print(\"Last 5 Matches:\")\n",
    "for match, long_url in longest_url_items[-5:]:\n",
    "    print(f\"Match Identifier: {match}, Longest URL: {long_url}\")\n"
   ]
  },
  {
   "cell_type": "markdown",
   "metadata": {},
   "source": [
    "# Getting Inside of Match Links"
   ]
  },
  {
   "cell_type": "code",
   "execution_count": 85,
   "metadata": {},
   "outputs": [
    {
     "name": "stderr",
     "output_type": "stream",
     "text": [
      "<>:16: SyntaxWarning: invalid escape sequence '\\['\n",
      "<>:16: SyntaxWarning: invalid escape sequence '\\['\n",
      "C:\\Users\\99451\\AppData\\Local\\Temp\\ipykernel_2000\\3946275450.py:16: SyntaxWarning: invalid escape sequence '\\['\n",
      "  elements = soup.select('.text-\\[\\#2F2F2F\\] .height-content , .max-sm\\:gap-1')\n"
     ]
    },
    {
     "name": "stdout",
     "output_type": "stream",
     "text": [
      "Found 53 elements\n",
      "[2.9, 3.9, 2.15]\n"
     ]
    }
   ],
   "source": [
    "from bs4 import BeautifulSoup\n",
    "\n",
    "# links = ['Full Time', ]\n",
    "extensions = ['#1X2;2']\n",
    "full_time_links = [link + extensions[0] for link in longest_urls.values()]\n",
    "\n",
    "driver = webdriver.Chrome(service=service)\n",
    "driver.get(full_time_links[0])\n",
    "\n",
    "# Give time for dynamic content to load\n",
    "driver.implicitly_wait(10)  # or time.sleep(seconds)\n",
    "\n",
    "html = driver.page_source\n",
    "soup = BeautifulSoup(html, 'html.parser')\n",
    "\n",
    "elements = soup.select('.text-\\[\\#2F2F2F\\] .height-content , .max-sm\\:gap-1')\n",
    "print(f\"Found {len(elements)} elements\")  # This should give you the correct count\n",
    "\n",
    "driver.quit()\n",
    "\n",
    "# Find the index of the element containing the text \"bet365\"\n",
    "bet365_index = next((index for index, element in enumerate(elements) if 'bet365' in str(element)), None)\n",
    "\n",
    "# Now we get the indexes for the odds\n",
    "odds_indexes = [bet365_index + 1, bet365_index + 2, bet365_index + 3]\n",
    "\n",
    "# Extracting float values from the corresponding elements\n",
    "odds = []\n",
    "for index in odds_indexes:\n",
    "    # Convert the Tag element to string and then to float\n",
    "    odds_value = float(elements[index].text)  # Use .text to get the text inside the Tag\n",
    "    odds.append(odds_value)\n",
    "\n",
    "print(odds)  # This will print the list of float values for the odds"
   ]
  }
 ],
 "metadata": {
  "kernelspec": {
   "display_name": "Python 3",
   "language": "python",
   "name": "python3"
  },
  "language_info": {
   "codemirror_mode": {
    "name": "ipython",
    "version": 3
   },
   "file_extension": ".py",
   "mimetype": "text/x-python",
   "name": "python",
   "nbconvert_exporter": "python",
   "pygments_lexer": "ipython3",
   "version": "3.12.3"
  }
 },
 "nbformat": 4,
 "nbformat_minor": 2
}
